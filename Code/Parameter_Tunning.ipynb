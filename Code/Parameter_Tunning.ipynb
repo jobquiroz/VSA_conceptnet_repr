{
 "cells": [
  {
   "cell_type": "markdown",
   "metadata": {},
   "source": [
    "Loop to iterate over  parameter values."
   ]
  },
  {
   "cell_type": "code",
   "execution_count": 1,
   "metadata": {},
   "outputs": [],
   "source": [
    "import requests\n",
    "import csv\n",
    "import pandas as pd\n",
    "import matplotlib\n",
    "import matplotlib.pyplot as plt\n",
    "import numpy as np\n",
    "from scipy.stats.stats import spearmanr\n",
    "import pickle\n",
    "import time\n",
    "import os\n",
    "import random\n",
    "\n",
    "# Vital function for pairwise distances...\n",
    "from scipy.spatial.distance import pdist\n",
    "\n",
    "# For Dendrogram..\n",
    "from scipy.cluster.hierarchy import linkage, dendrogram\n",
    "\n",
    "# Clustering based on cophenetic distance\n",
    "from scipy.cluster.hierarchy import fcluster"
   ]
  },
  {
   "cell_type": "markdown",
   "metadata": {},
   "source": [
    "## 1. Reading SimLex-999"
   ]
  },
  {
   "cell_type": "code",
   "execution_count": 2,
   "metadata": {},
   "outputs": [
    {
     "name": "stdout",
     "output_type": "stream",
     "text": [
      "There are 751 concepts\n",
      "There are 137 partitions\n"
     ]
    },
    {
     "data": {
      "text/plain": [
       "['bed', 'RelatedTo', 'sleeping', ['sleep'], 14.61204982, 5.0]"
      ]
     },
     "execution_count": 2,
     "metadata": {},
     "output_type": "execute_result"
    }
   ],
   "source": [
    "%run ConceptNet_VSA_AuxFunctions.ipynb  #To use reading functions\n",
    "\n",
    "# Getting list of concepts\n",
    "Pairs, Concepts = Read_SimLex()\n",
    "Pairs.sort(key= lambda x: x[2])\n",
    "\n",
    "# Getting partitions\n",
    "Groups = CreatingPartitions()\n",
    "\n",
    "# Getting list of pairs\n",
    "GPairs = Pairs_per_Partition()\n",
    "\n",
    "# Getting semantic features file\n",
    "Feat_matrix = Reading_Feature_Matrix()\n",
    "Feat_matrix[0][0]"
   ]
  },
  {
   "cell_type": "markdown",
   "metadata": {},
   "source": [
    "#### Converting Feat_matrix to dictionary\n",
    "\n",
    "Access information efficiently"
   ]
  },
  {
   "cell_type": "code",
   "execution_count": 3,
   "metadata": {},
   "outputs": [],
   "source": [
    "def Feat_dict_fun():\n",
    "    Feat_dict = {}\n",
    "    for con in Feat_matrix:\n",
    "        # Concept name is main key...\n",
    "        Feat_dict[con[0][0]] = {}\n",
    "        # feat_names in definition\n",
    "        feat_names = list(set([x[1] for x in con]))\n",
    "        # Dictionary for a single feat name of con\n",
    "        #Dict_feat_name = {}\n",
    "        for feat_nm in feat_names:\n",
    "            Feat_dict[con[0][0]][feat_nm] =  [x[2:] for x in con if x[1] == feat_nm]\n",
    "    return Feat_dict\n",
    "\n",
    "Feat_dict = Feat_dict_fun()"
   ]
  },
  {
   "cell_type": "markdown",
   "metadata": {},
   "source": [
    "## 2. Measuring semantic similarity of SimLex-999 pairs with several parameter values\n",
    "\n",
    "It iterates over parameters to find the best values.\n",
    "This loop can take a lot of time. Each iteration takes 20 minutes.\n",
    "The next cell shows the correlation values obtained after several trials"
   ]
  },
  {
   "cell_type": "code",
   "execution_count": 4,
   "metadata": {},
   "outputs": [
    {
     "name": "stdout",
     "output_type": "stream",
     "text": [
      "\n",
      "\n",
      "Diff_bits: 4600    Max_d: 0.7 Begining to encode dataset...\n",
      "End of encoding\n",
      "\n",
      "    Spearman correlation coefficient:  0.6141890115138305\n"
     ]
    }
   ],
   "source": [
    "%run EncodingDataset.ipynb\n",
    "# Bucle sobre diff_bits...\n",
    "min_w = 2\n",
    "min_feat = 3\n",
    "for diff_bits in [4600]: #range(2200, 4800, 200): \n",
    "    for max_d in [.7]: # range(.5, .8, .1)\n",
    "        print \"\\n\\nDiff_bits:\", diff_bits, \n",
    "        print \"   Max_d:\", max_d,\n",
    "\n",
    "        # Encoding\n",
    "        Init_mem(Concepts, Feat_matrix, 2) \n",
    "        \n",
    "        for i_g in range(len(Groups)): \n",
    "            Grupo = Groups[i_g]  \n",
    "            PGrupo = GPairs[i_g] \n",
    "            GRelatedness = [x[2] for x in PGrupo]\n",
    "\n",
    "            list_files_features = os.listdir('../Data/ClusteringData/03 Features_Group/') \n",
    "            features_files_group_i = [f for f in list_files_features if '_' + str(i_g) +'_' in f]\n",
    "\n",
    "            list_files_X = os.listdir('../Data/ClusteringData/04 PairwiseDistance/')  \n",
    "            X_mat_files_group_i = [f for f in list_files_X if '_' + str(i_g) +'_' in f]\n",
    "\n",
    "            # Sanity check...\n",
    "            assert len(features_files_group_i) == len(X_mat_files_group_i)\n",
    "\n",
    "            Relations = map(extrac_relation_name, features_files_group_i)\n",
    "\n",
    "            Dict_Features_Grupo_i = {}\n",
    "            Dict_Distances_Grupo_i = {}\n",
    "\n",
    "            for i in range(len(X_mat_files_group_i)):\n",
    "                name_relation = extrac_relation_name(X_mat_files_group_i[i])\n",
    "                Dict_Features_Grupo_i[name_relation] = np.load('../Data/ClusteringData/03 Features_Group/' + features_files_group_i[i])\n",
    "                Dict_Distances_Grupo_i[name_relation] = np.load('../Data/ClusteringData/04 PairwiseDistance/' + X_mat_files_group_i[i])\n",
    "\n",
    "            # Loop over relations\n",
    "            for rela in Relations:\n",
    "                # Linkage\n",
    "                distance = linkage(Dict_Distances_Grupo_i[rela], 'average')\n",
    "                # Clustering by distance\n",
    "                clusters = fcluster(distance, max_d, criterion='distance')\n",
    "                # Grouping features in clusters\n",
    "                uniques = np.unique(clusters)\n",
    "                Features = Dict_Features_Grupo_i[rela]\n",
    "                Clusters = []\n",
    "                for i in uniques:\n",
    "                    Clusters.append([Features[j][0] for j in range(len(clusters)) if clusters[j] == i])\n",
    "\n",
    "                # Changing ID_vectors\n",
    "                for cluster in Clusters:  \n",
    "                    if len(cluster) > 1:\n",
    "                        change_dict_defs(Grupo, rela, cluster, i_g)\n",
    "                        seed = cluster[0]\n",
    "                        seed = seed + '_' + rela[:5] + rela[-2:] + \"_g\" + str(i_g)\n",
    "                        seed_vec = SparseBitString(N)\n",
    "                        HDvector(seed_vec, seed)\n",
    "                        for word in cluster[1:]:\n",
    "                            HDvector(contamina_vec(seed_vec, diff_bits), word + '_' + rela[:5] + rela[-2:] + \"_g\" + str(i_g))\n",
    "\n",
    "            # New semantic pointers..\n",
    "            for conc in Grupo:\n",
    "                vec_ID = Dict[conc]\n",
    "                vec_ID.setPointer(CreateSemanticPointer(Dict_defs[conc]))         \n",
    "\n",
    "        # Filters \n",
    "        for concept in Concepts:\n",
    "            # Step 1. Get pairs...\n",
    "            pairs_con = get_Pairs(concept)\n",
    "\n",
    "            # Iterating over pairs...\n",
    "            Intersec_delete = []\n",
    "            for pairr in pairs_con:\n",
    "                # Step 3. Comparing distance between feat_values with equal feat_name...\n",
    "                if pairr[0] == concept:\n",
    "                    i_c = 0; i_oth = 1\n",
    "                else:\n",
    "                    i_c = 1; i_oth = 0\n",
    "\n",
    "                Delete_list = []\n",
    "                for feature in Dict_defs[pairr[i_c]]:\n",
    "                    # Features of the other concept... with same feature_name as feature...\n",
    "                    feats_con2 = get_feat_values(Dict_defs[pairr[i_oth]], feature[0])\n",
    "                    # Measuring distance between feature[1] and feature_values from other concept...\n",
    "                    distann = map(lambda x: Dict[feature[1]].dist(Dict[x]), feats_con2)\n",
    "                    if len(distann) == 0 or min(distann) > 4000:\n",
    "                        Delete_list.append(feature)\n",
    "\n",
    "                Intersec_delete.append(Delete_list)\n",
    "\n",
    "            to_delete_features = reduce(intersection, Intersec_delete)\n",
    "            new_to_delete_features = []\n",
    "            for to_del in to_delete_features:\n",
    "                for val in Feat_dict[concept][to_del[0]]:\n",
    "                    if val[0] == delete_relation_code(to_del[1]) and  val[2] <= min_w:  # Use auxiliar function (delete _isaisa_gX) \n",
    "                            new_to_delete_features.append(to_del)\n",
    "\n",
    "            # Deleting from definition\n",
    "            if len(Dict_defs[concept]) - len(new_to_delete_features) >= min_feat:\n",
    "                Dict_defs[concept] = [x for x in Dict_defs[concept] if x not in new_to_delete_features]\n",
    "                Dict[concept].setPointer(CreateSemanticPointer(Dict_defs[concept]))\n",
    "            elif len(Dict_defs[concept]) >= min_feat:\n",
    "                sample_to_delete = random.sample(new_to_delete_features, len(Dict_defs[concept]) - min_feat)\n",
    "                Dict_defs[concept] = [x for x in Dict_defs[concept] if x not in sample_to_delete]\n",
    "                Dict[concept].setPointer(CreateSemanticPointer(Dict_defs[concept]))\n",
    "            \n",
    "        # Measuring similarity\n",
    "        HD_sim = []\n",
    "\n",
    "        #Loop over pair\n",
    "        for p in Pairs:\n",
    "            HD_sim.append(HDvector.dist(Dict[p[0]].getPointer(), Dict[p[1]].getPointer()))\n",
    "\n",
    "        # Max-min normalization of HD_sim... \n",
    "        max_sim = float(max(HD_sim))\n",
    "        min_sim = float(min(HD_sim))\n",
    "        HD_sim = map(lambda x: (1. - (float(x) - min_sim) / (max_sim - min_sim)) * 10, HD_sim)\n",
    "        # Correlation\n",
    "        print \"\\n    Spearman correlation coefficient: \", spearmanr(HD_sim, [x[2] for x in Pairs])[0]"
   ]
  },
  {
   "cell_type": "markdown",
   "metadata": {},
   "source": [
    "## Plotting correlation values.\n",
    "\n",
    "Correlation values get after several iterations from the previous cell"
   ]
  },
  {
   "cell_type": "code",
   "execution_count": 5,
   "metadata": {},
   "outputs": [
    {
     "name": "stderr",
     "output_type": "stream",
     "text": [
      "C:\\Users\\jobqu\\Anaconda2\\lib\\site-packages\\matplotlib\\pyplot.py:3261: RuntimeWarning: Second argument 'y1' is ambiguous: could be a color spec but is in data. Using as data.\n",
      "Either rename the entry in data or use three arguments to plot.\n",
      "  ret = ax.plot(*args, **kwargs)\n",
      "C:\\Users\\jobqu\\Anaconda2\\lib\\site-packages\\matplotlib\\pyplot.py:3261: RuntimeWarning: Second argument 'y2' is ambiguous: could be a color spec but is in data. Using as data.\n",
      "Either rename the entry in data or use three arguments to plot.\n",
      "  ret = ax.plot(*args, **kwargs)\n",
      "C:\\Users\\jobqu\\Anaconda2\\lib\\site-packages\\matplotlib\\pyplot.py:3261: RuntimeWarning: Second argument 'y3' is ambiguous: could be a color spec but is in data. Using as data.\n",
      "Either rename the entry in data or use three arguments to plot.\n",
      "  ret = ax.plot(*args, **kwargs)\n"
     ]
    },
    {
     "data": {
      "text/plain": [
       "<matplotlib.legend.Legend at 0x14ec55f8>"
      ]
     },
     "execution_count": 5,
     "metadata": {},
     "output_type": "execute_result"
    },
    {
     "data": {
      "image/png": "[encoded data removed]",
      "text/plain": [
       "<matplotlib.figure.Figure at 0xd627dd8>"
      ]
     },
     "metadata": {},
     "output_type": "display_data"
    }
   ],
   "source": [
    "% matplotlib inline\n",
    "# libraries\n",
    "import matplotlib.pyplot as plt\n",
    "import numpy as np\n",
    "import pandas as pd\n",
    "\n",
    "\n",
    "\n",
    "# Data\n",
    "df=pd.DataFrame({'x': range(0,4900,400), \n",
    "                 'y1': np.array([0.5396,0.5606,0.569,.5729,0.5779,0.5897,0.5905,0.6034,0.6045,0.61,0.6072,0.6049,0.6083]),\n",
    "                 'y2': np.array([0.5277,0.5303,0.5231,0.5278,0.5368,0.5348,0.5471,0.5972,0.5948,0.6056,0.61205,0.6119,0.6066]),\n",
    "                 'y3': np.array([0.5054,0.5040,0.507,0.5151,0.5228,0.5224,0.52407,0.56065,0.5645,0.5866,0.579,0.5949,0.5973])})\n",
    "                                    \n",
    "# multiple line plot\n",
    "fig= plt.figure(figsize=(15,8))\n",
    "\n",
    "plt.plot( 'x', 'y1', data=df, marker='o', color='black', markersize = 7, linestyle=(0,(15,5,5,5)), linewidth=1, label=\"cut-off distance = 0.6\")\n",
    "plt.plot( 'x', 'y2', data=df, marker='^', color='black', markersize = 8, linestyle='solid', linewidth=1, label=\"cut-off distance = 0.7\")\n",
    "#plt.plot( 'x', 'y2', data=df, marker='^', color='black', linestyle='dashdot', linewidth=1, label=\"cut-off = 0.7\")\n",
    "plt.plot( 'x', 'y3', data=df, marker='s', color='black', markersize = 7, linestyle=(0, (15,5)), linewidth=1, label=\"cut-off distance = 0.8\")\n",
    "#plt.plot( 'x', 'y3', data=df, marker='s', coor='black', linestyle='dashed', linewidth=1, label=\"cut-off = 0.8\")\n",
    "plt.xlabel('$\\it{rad}$ distance', fontsize=14)\n",
    "plt.ylabel(\"Spearman's correlation coefficent\", fontsize=14)\n",
    "plt.ylim(.5, .65)# .65)\n",
    "\n",
    "plt.grid()\n",
    "plt.legend()\n"
   ]
  }
 ],
 "metadata": {
  "kernelspec": {
   "display_name": "Python 2",
   "language": "python",
   "name": "python2"
  },
  "language_info": {
   "codemirror_mode": {
    "name": "ipython",
    "version": 2
   },
   "file_extension": ".py",
   "mimetype": "text/x-python",
   "name": "python",
   "nbconvert_exporter": "python",
   "pygments_lexer": "ipython2",
   "version": "2.7.14"
  }
 },
 "nbformat": 4,
 "nbformat_minor": 2
}
