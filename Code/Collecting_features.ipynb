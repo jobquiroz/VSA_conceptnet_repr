{
 "cells": [
  {
   "cell_type": "markdown",
   "metadata": {},
   "source": [
    "The purpose of this notebook is to read the SimLex-999 dataset, and for each concept find its semantic features by requesting information from the ConceptNet knowledge graph. "
   ]
  },
  {
   "cell_type": "markdown",
   "metadata": {},
   "source": [
    "## Libraries"
   ]
  },
  {
   "cell_type": "code",
   "execution_count": 8,
   "metadata": {
    "scrolled": true
   },
   "outputs": [
    {
     "name": "stdout",
     "output_type": "stream",
     "text": [
      "[nltk_data] Downloading package averaged_perceptron_tagger to\n",
      "[nltk_data]     C:\\Users\\jobqu\\AppData\\Roaming\\nltk_data...\n",
      "[nltk_data]   Package averaged_perceptron_tagger is already up-to-\n",
      "[nltk_data]       date!\n"
     ]
    },
    {
     "data": {
      "text/plain": [
       "True"
      ]
     },
     "execution_count": 8,
     "metadata": {},
     "output_type": "execute_result"
    }
   ],
   "source": [
    "import requests\n",
    "import csv\n",
    "import pandas as pd\n",
    "import matplotlib\n",
    "import matplotlib.pyplot as plt\n",
    "import numpy as np\n",
    "from scipy.stats.stats import spearmanr\n",
    "import pickle\n",
    "import time\n",
    "\n",
    "# for stem\n",
    "import nltk\n",
    "nltk.download('averaged_perceptron_tagger')"
   ]
  },
  {
   "cell_type": "markdown",
   "metadata": {},
   "source": [
    "## 1. Reading the SimLex-999 dataset\n",
    "\n",
    "Only extracting the **noun subset**. "
   ]
  },
  {
   "cell_type": "code",
   "execution_count": 18,
   "metadata": {
    "scrolled": true
   },
   "outputs": [
    {
     "name": "stdout",
     "output_type": "stream",
     "text": [
      "Number of pais in datasaet: 666\n",
      "Number of total concepts 751\n"
     ]
    }
   ],
   "source": [
    "df = pd.read_excel('../Data/SimLex.xlsx')\n",
    "\n",
    "# Selecting only nouns\n",
    "df = df[df['POS'] == 'N']\n",
    "print \"Number of pais in datasaet:\", len(df)\n",
    "\n",
    "Concepts = pd.unique(df[['word1','word2']].values.ravel('K'))\n",
    "Concepts = map(str, Concepts)\n",
    "print \"Number of total concepts\", len(Concepts)"
   ]
  },
  {
   "cell_type": "markdown",
   "metadata": {},
   "source": [
    "## 2. Finding features from ConceptNet\n",
    "\n",
    "For each concept (751) a set of semantic features should be obtained from ConceptNet\n",
    "\n",
    "### 2.1 Relevant Relations\n",
    "ConceptNet has more than 30 type of relations. We will only focus on the most relevant (in a semantic sense), leaving out linguistic relations (such as the roots of words)."
   ]
  },
  {
   "cell_type": "code",
   "execution_count": 10,
   "metadata": {
    "scrolled": true
   },
   "outputs": [],
   "source": [
    "Relations = ['RelatedTo','IsA','PartOf','HasA','UsedFor','CapableOf','AtLocation','Causes','HasSubevent',\n",
    "             'HasFirstSubevent','HasLastSubevent','HasPrerequisite','HasProperty','MotivatedByGoal','ObstructedBy',\n",
    "             'Desires','CreatedBy','SymbolOf','DefinedAs',\n",
    "             'Entails','MannerOf','LocatedNear','SimilarTo','CausesDesire', 'MadeOf', 'ReceivesAction']\n",
    "\n",
    "\n",
    "Dict_relations = { 'AtLocation': ['it is located at', 4], 'AttachedTo': ['it is attached to', 4],\n",
    "                   'AttractedTo': ['it is attracted to', 4], 'BoughtAt': ['it is bought at', 4],\n",
    "                   'BuiltFor': ['it is built for', 4],  'CapableOf': ['it is capable of', 4],\n",
    "                   'CausedBy': ['it is caused by', 4], 'Causes': ['it causes', 2],\n",
    "                   'CausesDesire': ['it causes desire', 3], 'ComposedOf': ['it is composed of', 4],\n",
    "                   'ComprisedOf': ['it is comprised of', 4], 'ConnectedTo': ['it is connected to',4],\n",
    "                   'Considered': ['it is considered', 3], 'CoveredBy': ['it is covered by', 4],\n",
    "                   'CoveredWith': ['it is covered with', 4],\n",
    "                   'CreatedBy': ['it is created by',4], 'DefinedAs': ['it is defined as',4],\n",
    "                   'Desires': ['it desires', 2], 'DividedInto': ['it is divided into', 4],\n",
    "                   'DrawnTo': ['it is drawn to', 4], 'Entails': ['it entails', 2],\n",
    "                   'FilledWith': ['it is filled with',4], 'FoundOn': ['it is found on', 4],\n",
    "                   'HasA': ['it has a', 3], 'HasFirstSubevent': ['it has as first subevent', 5],\n",
    "                   'HasLastSubevent': ['it has as last subevent', 5], 'HasPrerequisite': ['it has as prerequisite', 4],\n",
    "                   'HasProperty': ['it has the property', 4], 'HasSubevent': ['it has as subevent', 4],\n",
    "                   'IsA': ['it is a', 3], 'KeptIn': ['it is kept in', 4],\n",
    "                   'LocatedNear': ['it is located near',4], 'MadeFrom': ['it is made from',4],\n",
    "                   'MadeIn': ['it is made in', 4], 'MadeInto': ['it is made into', 4],\n",
    "                   'MadeOf': ['it is made of', 4], 'MadeOn': ['it is made on', 4],\n",
    "                   'MadeTo': ['it is made to', 4], 'MadeUp': ['it is made up', 4],\n",
    "                   'MadeUpOf': ['it is made up of', 5], 'MannerOf': ['it is a manner of', 5], \n",
    "                   'MotivatedByGoal': ['it is motivated by', 4], 'NeededTo': ['it is needed to', 4],\n",
    "                   'ObstructedBy': ['it is obstructed by', 4],  'PartOf': ['it is a part of', 5],\n",
    "                   'PlantedIn': ['it is planted in',4], 'PlayedBy': ['it is played by', 4],\n",
    "                   'PlayedIn': ['it is played in', 4], 'PlayedOn': ['it is played on', 4],\n",
    "                   'PlayedWith': ['it is played with',4], 'ProducedBy': ['it is produced by',4],\n",
    "                   'ReceivesAction': ['it receives action', 3], 'RelatedTo': ['it is related to', 4], \n",
    "                   'SimilarTo': ['it is similar to', 4], 'ServedAt': ['it is served at',4],\n",
    "                   'ServedIn': ['it is served in',4], 'SoldAt': ['it is sold at', 4],\n",
    "                   'SoldBy': ['it is sold by', 4], 'SoldIn': ['it is sold in', 4],\n",
    "                   'StoredIn': ['it is stored in', 4], 'StoredOn': ['it is stored on',4],\n",
    "                   'UsedAs': ['it is used as',4], 'UsedBy': ['it is used by',4],\n",
    "                   'UsedFor': ['it is used for', 4], 'UsedIn': ['it is used in',4],\n",
    "                   'SymbolOf': ['is symbolf of', 3]}"
   ]
  },
  {
   "cell_type": "markdown",
   "metadata": {},
   "source": [
    "### Auxiliar Function"
   ]
  },
  {
   "cell_type": "code",
   "execution_count": 11,
   "metadata": {
    "scrolled": true
   },
   "outputs": [],
   "source": [
    "def clean_term (string):\n",
    "    \"Cleans up a word from: /c/en/loyal_friend to loyal_friend\"\n",
    "    A = string[string.rfind('/')+1:]\n",
    "    try: \n",
    "        return str(A)\n",
    "    except:\n",
    "        return []"
   ]
  },
  {
   "cell_type": "markdown",
   "metadata": {},
   "source": [
    "## 3. Main loop to request semantic features from ConceptNet\n",
    "\n",
    "The requesting of information from ConceptNet requires a 2 sec pause before processing another one (a ConceptNet restriction). This loop can take up to 12 hours."
   ]
  },
  {
   "cell_type": "code",
   "execution_count": 19,
   "metadata": {
    "scrolled": true
   },
   "outputs": [
    {
     "ename": "KeyboardInterrupt",
     "evalue": "",
     "output_type": "error",
     "traceback": [
      "\u001b[1;31m---------------------------------------------------------------------------\u001b[0m",
      "\u001b[1;31mKeyboardInterrupt\u001b[0m                         Traceback (most recent call last)",
      "\u001b[1;32m<ipython-input-19-e603f21c792a>\u001b[0m in \u001b[0;36m<module>\u001b[1;34m()\u001b[0m\n\u001b[0;32m     15\u001b[0m     \u001b[1;32mfor\u001b[0m \u001b[0mURL\u001b[0m \u001b[1;32min\u001b[0m \u001b[0mURLs\u001b[0m\u001b[1;33m:\u001b[0m\u001b[1;33m\u001b[0m\u001b[0m\n\u001b[0;32m     16\u001b[0m         \u001b[1;31m# Pause to avoid errors..\u001b[0m\u001b[1;33m\u001b[0m\u001b[1;33m\u001b[0m\u001b[0m\n\u001b[1;32m---> 17\u001b[1;33m         \u001b[0mtime\u001b[0m\u001b[1;33m.\u001b[0m\u001b[0msleep\u001b[0m\u001b[1;33m(\u001b[0m\u001b[1;36m2.1\u001b[0m\u001b[1;33m)\u001b[0m\u001b[1;33m\u001b[0m\u001b[0m\n\u001b[0m\u001b[0;32m     18\u001b[0m         \u001b[1;31m# Requesting edges\u001b[0m\u001b[1;33m\u001b[0m\u001b[1;33m\u001b[0m\u001b[0m\n\u001b[0;32m     19\u001b[0m         \u001b[0mresponse\u001b[0m \u001b[1;33m=\u001b[0m \u001b[0mrequests\u001b[0m\u001b[1;33m.\u001b[0m\u001b[0mget\u001b[0m\u001b[1;33m(\u001b[0m\u001b[0mURL\u001b[0m\u001b[1;33m)\u001b[0m\u001b[1;33m\u001b[0m\u001b[0m\n",
      "\u001b[1;31mKeyboardInterrupt\u001b[0m: "
     ]
    }
   ],
   "source": [
    "max_num_feat = 30 #Max features\n",
    "max_feats_per_relation = 10 # Max features per relations\n",
    "\n",
    "All_sem_features = []  # Array\n",
    "\n",
    "# Loop for requesting edges from ConceptNet graph\n",
    "for Concept in Concepts:\n",
    "    #Creating list of URLs\n",
    "    URL_start = 'http://api.conceptnet.io/query?start='\n",
    "    URL_concept = '/c/en/' + Concept\n",
    "    URL_relation = '&rel=/r/'\n",
    "    URL_filter = '&filter=/c/en'\n",
    "    URLs = [URL_start + URL_concept + URL_relation + r + URL_filter for r in Relations]\n",
    "    Sem_features = []\n",
    "    for URL in URLs:\n",
    "        # Pause to avoid errors..\n",
    "        time.sleep(2.1)\n",
    "        # Requesting edges\n",
    "        response = requests.get(URL)\n",
    "        obj = response.json()\n",
    "        edges = obj['edges']\n",
    "        # List of features for relations:\n",
    "        L_rel = []\n",
    "        i = 0\n",
    "        for edge in edges:\n",
    "            c_name = edge['start']['term']\n",
    "            rel = edge['rel']['label']\n",
    "            o_name = edge['end']['term']\n",
    "            w = edge['weight']\n",
    "            if o_name[:6] != '/c/en/':  # Filtering non-english concepts\n",
    "                break\n",
    "    \n",
    "            # Creating tuple: [concept, name + POS, relation, object, weight] \"('\" + clean_term(c_name) + \"' 'N')\"\n",
    "            L_rel.append([clean_term(c_name), tuple([clean_term(c_name), 'N']), str(rel), clean_term(o_name), w])\n",
    "            i += 1\n",
    "\n",
    "            # Condition for max number of features\n",
    "            if i > max_feats_per_relation: \n",
    "                break\n",
    "                \n",
    "        # Sorting assertions by weight \n",
    "        L_rel.sort(key = lambda x: x[4], reverse = True)\n",
    "        # Keeping only the 'num_feat' more important features\n",
    "        Sem_features.append(L_rel[:max_num_feat])\n",
    "        \n",
    "    Final_feats = []\n",
    "    # Cleaning and sorting features...\n",
    "    for l in Sem_features:\n",
    "        if len(l) > 0:\n",
    "            Final_feats.extend(l)\n",
    "    Final_feats.sort(key = lambda x : x[4], reverse = True)\n",
    "    All_sem_features.append(Final_feats)\n",
    "    print Concept"
   ]
  },
  {
   "cell_type": "markdown",
   "metadata": {},
   "source": [
    "## 4. Exporting file with semantic features"
   ]
  },
  {
   "cell_type": "code",
   "execution_count": 17,
   "metadata": {
    "scrolled": true
   },
   "outputs": [],
   "source": [
    "# open file\n",
    "with open('../Data/ConceptNet_Semantic_Features_1.csv','wb') as csvfile:\n",
    "    filewriter = csv.writer(csvfile, delimiter=',',quotechar='|', quoting=csv.QUOTE_MINIMAL)\n",
    "    filewriter.writerow(['Concept','Name + POS','feat_name','feat_value','weight'])\n",
    "    for x in All_sem_features:\n",
    "        for row in x:\n",
    "            filewriter.writerow([row[0]] + [str(row[1]).replace(',','')] + row[2:])\n",
    "    \n",
    "# close file\n",
    "csvfile.close()"
   ]
  }
 ],
 "metadata": {
  "kernelspec": {
   "display_name": "Python 2",
   "language": "python",
   "name": "python2"
  },
  "language_info": {
   "codemirror_mode": {
    "name": "ipython",
    "version": 2
   },
   "file_extension": ".py",
   "mimetype": "text/x-python",
   "name": "python",
   "nbconvert_exporter": "python",
   "pygments_lexer": "ipython2",
   "version": "2.7.14"
  }
 },
 "nbformat": 4,
 "nbformat_minor": 2
}
