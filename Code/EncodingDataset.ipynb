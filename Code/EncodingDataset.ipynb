{
 "cells": [
  {
   "cell_type": "markdown",
   "metadata": {},
   "source": [
    "## Encoding the concepts and its semantic features into Hyperdimensional Vectors\n",
    "\n",
    "In this notebook the functions from the 'HDComputing' notebook are used to encode the semantic features from ConcepNet.\n",
    "\n",
    "### Importing libraries and HD computing functions"
   ]
  },
  {
   "cell_type": "code",
   "execution_count": 9,
   "metadata": {},
   "outputs": [],
   "source": [
    "import pandas as pd\n",
    "\n",
    "%run HDComputing_basics.ipynb"
   ]
  },
  {
   "cell_type": "markdown",
   "metadata": {},
   "source": [
    "## Functions for ConceptNet..."
   ]
  },
  {
   "cell_type": "code",
   "execution_count": 10,
   "metadata": {},
   "outputs": [],
   "source": [
    "def CreateDictionary (names_list, feature_matrix, index):\n",
    "    \"Given a feature matrix it returns all the concepts feature values\"\n",
    "    global Dict_defs\n",
    "    # Extracting list of semantic features for each concept\n",
    "    for n in names_list:\n",
    "        for conc in feature_matrix:\n",
    "            if conc[0][0] == n:\n",
    "                features = [[x[1],x[index]] for x in conc]  # Para nuevo Feat_matrix-5         \n",
    "        # Add definition to global variable Dict_defs\n",
    "        Dict_defs[n] = features"
   ]
  },
  {
   "cell_type": "markdown",
   "metadata": {},
   "source": [
    "### Memory functions"
   ]
  },
  {
   "cell_type": "code",
   "execution_count": 14,
   "metadata": {},
   "outputs": [],
   "source": [
    "def flat_list (L):\n",
    "    \"Recursive function that flats a list of lists (at any level)\"\n",
    "    if L == []:\n",
    "        return L\n",
    "    if type(L[0]) is list:\n",
    "        return flat_list(L[0]) + flat_list(L[1:])\n",
    "    return L[:1] + flat_list(L[1:])\n",
    "\n",
    "def SaveConcepts():\n",
    "    \"\"\"Given a definitions dictionary it stores in memory the entire set of concepts in the dictionary (including feature vectors)\"\"\"\n",
    "    keys = list(Dict_defs.keys())\n",
    "    vals = list(Dict_defs.values())\n",
    "    all_concepts = list(set(flat_list(vals) + keys))\n",
    "    # Process for storing list of concepts in memory\n",
    "    for concept in all_concepts:\n",
    "        HDvector(N,concept) #This creates an object and store it in memory    \n",
    "    \n",
    "def CreateSemanticPointer (PairList):\n",
    "    \"Turns list as [[feat1,feat_val],[feat2,feat_val],[feat3,feat_val]] into vector feat1*feat_val + feat2*feat_val ...\"\n",
    "    if len(PairList) == 0:\n",
    "        return HDvector(N)\n",
    "    vecs = []\n",
    "    for pair in PairList:\n",
    "        if type(pair[1]) == list:\n",
    "            vecs.append(Dict[pair[0]] * ADD(map(lambda x: Dict[x], pair[1])))\n",
    "        else:\n",
    "            vecs.append(Dict[pair[0]] * Dict[pair[1]])\n",
    "    return ADD(vecs)\n",
    "\n",
    "def SaveDefinitions():\n",
    "    \"\"\"Given the definitions dictionary, and having all its concepts previously stored in memory, this functions\n",
    "       creates a definition vector (semantic pointer) using HD operations and assign it as a pointer to an \n",
    "       object vector (ID vector).\"\"\"\n",
    "    # Going through all elements in dictionary\n",
    "    global Dict_defs\n",
    "    for key, value in Dict_defs.items():\n",
    "    #    print Dict_defs[key]\n",
    "        Dict[key].setPointer(CreateSemanticPointer(value))"
   ]
  },
  {
   "cell_type": "markdown",
   "metadata": {},
   "source": [
    "### Initializing memory"
   ]
  },
  {
   "cell_type": "code",
   "execution_count": 12,
   "metadata": {},
   "outputs": [],
   "source": [
    "def Init_mem( names_list = None ,feature_matrix = None, index = None):\n",
    "    init()  \n",
    "    print(\"Begining to encode dataset...\")\n",
    "    # Read dataset and create definition dictionary\n",
    "    CreateDictionary(names_list, feature_matrix, index)\n",
    "    # Save concepts into memory (ID vectors)\n",
    "    SaveConcepts()\n",
    "    # Associate definitions to concepts into memory (SP vectors)\n",
    "    SaveDefinitions()\n",
    "    print(\"End of encoding\")"
   ]
  }
 ],
 "metadata": {
  "kernelspec": {
   "display_name": "Python 3",
   "language": "python",
   "name": "python3"
  },
  "language_info": {
   "codemirror_mode": {
    "name": "ipython",
    "version": 3
   },
   "file_extension": ".py",
   "mimetype": "text/x-python",
   "name": "python",
   "nbconvert_exporter": "python",
   "pygments_lexer": "ipython3",
   "version": "3.8.3"
  }
 },
 "nbformat": 4,
 "nbformat_minor": 2
}
