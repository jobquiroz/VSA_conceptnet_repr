{
 "cells": [
  {
   "cell_type": "markdown",
   "metadata": {},
   "source": [
    "This notebook shows some simple examples of what all the other notebooks do. "
   ]
  },
  {
   "cell_type": "markdown",
   "metadata": {},
   "source": [
    "## Libraries"
   ]
  },
  {
   "cell_type": "code",
   "execution_count": 34,
   "metadata": {},
   "outputs": [],
   "source": [
    "import requests\n",
    "import csv\n",
    "import pandas as pd\n",
    "import matplotlib\n",
    "import matplotlib.pyplot as plt\n",
    "import numpy as np\n",
    "from scipy.stats.stats import spearmanr\n",
    "import pickle\n",
    "import time\n",
    "\n",
    "%run EncodingDataset.ipynb"
   ]
  },
  {
   "cell_type": "markdown",
   "metadata": {},
   "source": [
    "## 1) Concept similarity using encoded vectors.\n",
    "\n",
    "Once the HDvectors are encoded, we can now simply use these vectors to compare similarity betwen pairs of words. Here is a list of pairs and its similarity according to SimLex-999.\n",
    " \n",
    "- 'physician' - 'doctor'     (8.88)\n",
    "- 'dentist' - 'colonel'      (0.40)\n",
    "- 'lens' - 'camera'          (4.28)\n",
    "- 'president' - 'mayor'      (5.68)\n",
    "- 'president' - 'politician' (7.38)\n",
    "- 'orthodontist' - 'dentist' (8.27)\n",
    "\n",
    "The \"Dict.pkl\" file can be downloaded [here](https://1drv.ms/u/s!AkCN44HxsE59gqFYpFnYBwTIaANThQ?e=7K8xTl)"
   ]
  },
  {
   "cell_type": "code",
   "execution_count": 16,
   "metadata": {},
   "outputs": [],
   "source": [
    "# Importing vectors\n",
    "Dict = pickle.load( open(\"Dict.pkl\", \"rb\"))"
   ]
  },
  {
   "cell_type": "code",
   "execution_count": 17,
   "metadata": {},
   "outputs": [],
   "source": [
    "# Distance function\n",
    "def HD_simm(concept1, concept2):\n",
    "    \"Measures semantic similarity\"\n",
    "    return (1 - ( float(HDvector.dist(Dict[concept1].getPointer(), Dict[concept2].getPointer())) - 2800 ) / (5000 - 2800)) * 10 "
   ]
  },
  {
   "cell_type": "code",
   "execution_count": 18,
   "metadata": {},
   "outputs": [
    {
     "name": "stdout",
     "output_type": "stream",
     "text": [
      "dentist - colonel:  0.21363636363636362\n",
      "president - mayor:  3.5\n",
      "lens - camera:  4.481818181818182\n",
      "president - politician:  4.6045454545454545\n",
      "physician - doctor:  7.804545454545455\n",
      "orthodontist - dentist:  5.763636363636364\n"
     ]
    }
   ],
   "source": [
    "print(\"dentist - colonel: \", HD_simm('dentist','colonel'))\n",
    "print(\"president - mayor: \", HD_simm('president','mayor'))\n",
    "print (\"lens - camera: \", HD_simm('lens','camera'))\n",
    "print (\"president - politician: \", HD_simm('president','politician'))\n",
    "print (\"physician - doctor: \", HD_simm('physician','doctor'))\n",
    "print (\"orthodontist - dentist: \", HD_simm('sofa','chair'))"
   ]
  },
  {
   "cell_type": "markdown",
   "metadata": {},
   "source": [
    "## 2) Representing concepts\n",
    "\n",
    "Here we show the entire process to get the representations vectors for the pair \"sofa\" - \"chair\". *SimLex sim 6.67; our model: 5.76*\n",
    "\n",
    "Many process were simplified to make this explanation simpler."
   ]
  },
  {
   "cell_type": "markdown",
   "metadata": {},
   "source": [
    "### Relations\n",
    "\n",
    "Edges to explore from ConceptNet"
   ]
  },
  {
   "cell_type": "code",
   "execution_count": 19,
   "metadata": {},
   "outputs": [],
   "source": [
    "Concepts = ['sofa','chair']\n",
    "Relations = ['IsA','UsedFor','AtLocation']"
   ]
  },
  {
   "cell_type": "code",
   "execution_count": 20,
   "metadata": {},
   "outputs": [],
   "source": [
    "def clean_term (string):\n",
    "    \"Cleans up a word from: /c/en/loyal_friend to loyal_friend\"\n",
    "    A = string[string.rfind('/')+1:]\n",
    "    try: \n",
    "        return str(A)\n",
    "    except:\n",
    "        return []"
   ]
  },
  {
   "cell_type": "markdown",
   "metadata": {},
   "source": [
    "### Requesting loop"
   ]
  },
  {
   "cell_type": "code",
   "execution_count": 21,
   "metadata": {},
   "outputs": [],
   "source": [
    "max_num_feat = 30 #Max features\n",
    "max_feats_per_relation = 10 # Max features per relations\n",
    "\n",
    "All_sem_features = []  # Array\n",
    "\n",
    "# Loop for requesting edges from ConceptNet graph\n",
    "for Concept in Concepts:\n",
    "    #Creating list of URLs\n",
    "    URL_start = 'http://api.conceptnet.io/query?start='\n",
    "    URL_concept = '/c/en/' + Concept\n",
    "    URL_relation = '&rel=/r/'\n",
    "    URL_filter = '&filter=/c/en'\n",
    "    URLs = [URL_start + URL_concept + URL_relation + r + URL_filter for r in Relations]\n",
    "    Sem_features = []\n",
    "    for URL in URLs:\n",
    "        # Pause to avoid errors..\n",
    "        time.sleep(2.1)\n",
    "        # Requesting edges\n",
    "        response = requests.get(URL)\n",
    "        obj = response.json()\n",
    "        edges = obj['edges']\n",
    "        # List of features for relations:\n",
    "        L_rel = []\n",
    "        i = 0\n",
    "        for edge in edges:\n",
    "            c_name = edge['start']['term']\n",
    "            rel = edge['rel']['label']\n",
    "            o_name = edge['end']['term']\n",
    "            w = edge['weight']\n",
    "            if o_name[:6] != '/c/en/':  # Filtering non-english concepts\n",
    "                break\n",
    "    \n",
    "            # Creating tuple: [concept, name + POS, relation, object, weight] \"('\" + clean_term(c_name) + \"' 'N')\"\n",
    "            L_rel.append([clean_term(c_name), str(rel), clean_term(o_name), [clean_term(o_name)], w, 0])\n",
    "            i += 1\n",
    "\n",
    "            # Condition for max number of features\n",
    "            if i > max_feats_per_relation: \n",
    "                break\n",
    "                \n",
    "        # Sorting assertions by weight \n",
    "        L_rel.sort(key = lambda x: x[4], reverse = True)\n",
    "        # Keeping only the 'num_feat' more important features\n",
    "        Sem_features.append(L_rel[:max_num_feat])\n",
    "        \n",
    "    Final_feats = []\n",
    "    # Cleaning and sorting features...\n",
    "    for l in Sem_features:\n",
    "        if len(l) > 0:\n",
    "            Final_feats.extend(l)\n",
    "    Final_feats.sort(key = lambda x : x[4], reverse = True)\n",
    "    All_sem_features.append(Final_feats[:10])"
   ]
  },
  {
   "cell_type": "markdown",
   "metadata": {},
   "source": [
    "#### First 10 features for sofa"
   ]
  },
  {
   "cell_type": "code",
   "execution_count": 22,
   "metadata": {},
   "outputs": [
    {
     "name": "stdout",
     "output_type": "stream",
     "text": [
      "Features for sofa\n",
      "['sofa', 'IsA', 'piece_of_furniture', ['piece_of_furniture'], 3.4641016151377544, 0]\n",
      "['sofa', 'UsedFor', 'relax', ['relax'], 2.82842712474619, 0]\n",
      "['sofa', 'UsedFor', 'lounging', ['lounging'], 2.82842712474619, 0]\n",
      "['sofa', 'UsedFor', 'lying_on', ['lying_on'], 2.82842712474619, 0]\n",
      "['sofa', 'UsedFor', 'sleeping', ['sleeping'], 2.82842712474619, 0]\n",
      "['sofa', 'AtLocation', 'house', ['house'], 2.82842712474619, 0]\n",
      "['sofa', 'IsA', 'seat', ['seat'], 2.0, 0]\n",
      "['sofa', 'IsA', 'place_to_sit', ['place_to_sit'], 2.0, 0]\n",
      "['sofa', 'IsA', 'chair', ['chair'], 2.0, 0]\n",
      "['sofa', 'IsA', 'comfortable_place_to_sit', ['comfortable_place_to_sit'], 2.0, 0]\n"
     ]
    }
   ],
   "source": [
    "print('Features for sofa')\n",
    "for f in All_sem_features[0]:\n",
    "    print (f)"
   ]
  },
  {
   "cell_type": "markdown",
   "metadata": {},
   "source": [
    "#### First 10 features for chair"
   ]
  },
  {
   "cell_type": "code",
   "execution_count": 23,
   "metadata": {},
   "outputs": [
    {
     "name": "stdout",
     "output_type": "stream",
     "text": [
      "Features for chair\n",
      "['chair', 'AtLocation', 'office', ['office'], 8.48528137423857, 0]\n",
      "['chair', 'AtLocation', 'desk', ['desk'], 6.6332495807108, 0]\n",
      "['chair', 'UsedFor', 'resting', ['resting'], 3.4641016151377544, 0]\n",
      "['chair', 'AtLocation', 'cubicle', ['cubicle'], 3.4641016151377544, 0]\n",
      "['chair', 'AtLocation', 'porch', ['porch'], 3.4641016151377544, 0]\n",
      "['chair', 'AtLocation', 'living_room', ['living_room'], 2.82842712474619, 0]\n",
      "['chair', 'AtLocation', 'room', ['room'], 2.82842712474619, 0]\n",
      "['chair', 'AtLocation', 'church', ['church'], 2.82842712474619, 0]\n",
      "['chair', 'AtLocation', 'kitchen', ['kitchen'], 2.82842712474619, 0]\n",
      "['chair', 'IsA', 'seat', ['seat'], 2.0, 0]\n"
     ]
    }
   ],
   "source": [
    "# First 10 features for chair\n",
    "print('Features for chair')\n",
    "for f in All_sem_features[1]:\n",
    "    print(f)"
   ]
  },
  {
   "cell_type": "markdown",
   "metadata": {},
   "source": [
    "### Encoding as HDvectors"
   ]
  },
  {
   "cell_type": "code",
   "execution_count": 35,
   "metadata": {},
   "outputs": [
    {
     "name": "stdout",
     "output_type": "stream",
     "text": [
      "Begining to encode dataset...\n",
      "End of encoding\n"
     ]
    }
   ],
   "source": [
    "Init_mem(Concepts, All_sem_features, 2) "
   ]
  },
  {
   "cell_type": "markdown",
   "metadata": {},
   "source": [
    "### Measuring Distance\n",
    "This distance value is only considering a few relations, and without doing any clustering process"
   ]
  },
  {
   "cell_type": "code",
   "execution_count": 36,
   "metadata": {},
   "outputs": [
    {
     "name": "stdout",
     "output_type": "stream",
     "text": [
      "Hamming distance sofa - chair:  1.8454545454545457\n"
     ]
    }
   ],
   "source": [
    "print(\"Hamming distance sofa - chair: \", (1 - ( float(HDvector.dist(Dict['sofa'].getPointer(), Dict['chair'].getPointer())) - 2800 ) / (5000 - 2800)) * 10 )"
   ]
  },
  {
   "cell_type": "markdown",
   "metadata": {},
   "source": [
    "## 3) Example of feature clustering\n",
    "\n",
    "The following example takes the features for the relation \"AtLocation\" for the pair *sofa-chair*"
   ]
  },
  {
   "cell_type": "code",
   "execution_count": 41,
   "metadata": {},
   "outputs": [
    {
     "data": {
      "text/plain": [
       "array([['office'],\n",
       "       ['desk'],\n",
       "       ['porch'],\n",
       "       ['cubicle'],\n",
       "       ['living_room'],\n",
       "       ['kitchen'],\n",
       "       ['room'],\n",
       "       ['church'],\n",
       "       ['house']], dtype='<U11')"
      ]
     },
     "execution_count": 41,
     "metadata": {},
     "output_type": "execute_result"
    }
   ],
   "source": [
    "# Feature values (from the concept 'bed' in Samples)\n",
    "Features = ['office', 'desk', 'porch','cubicle', 'living_room', 'kitchen','room', 'church', 'house']\n",
    "\n",
    "Features = np.array( list( map(lambda x: np.array([x]), Features) ) )\n",
    "\n",
    "Features"
   ]
  },
  {
   "cell_type": "markdown",
   "metadata": {},
   "source": [
    "### Distance function"
   ]
  },
  {
   "cell_type": "code",
   "execution_count": 38,
   "metadata": {},
   "outputs": [],
   "source": [
    "def conceptnet_dist(w1, w2):\n",
    "    URL_start = 'http://api.conceptnet.io/relatedness?node1=/c/en/'\n",
    "    URL_middle = '&node2=/c/en/'\n",
    "    # Generating URL\n",
    "    URL = URL_start + w1[0] + URL_middle + w2[0]\n",
    "    # Requesting JSON\n",
    "    response = requests.get(URL)\n",
    "    obj = response.json()\n",
    "    time.sleep(2.1)\n",
    "    print(w1, w2)\n",
    "    return 1 - obj['value']"
   ]
  },
  {
   "cell_type": "markdown",
   "metadata": {},
   "source": [
    "### Pairwise distances"
   ]
  },
  {
   "cell_type": "code",
   "execution_count": 43,
   "metadata": {},
   "outputs": [
    {
     "name": "stdout",
     "output_type": "stream",
     "text": [
      "['office'] ['desk']\n",
      "['office'] ['porch']\n",
      "['office'] ['cubicle']\n",
      "['office'] ['living_room']\n",
      "['office'] ['kitchen']\n",
      "['office'] ['room']\n",
      "['office'] ['church']\n",
      "['office'] ['house']\n",
      "['desk'] ['porch']\n",
      "['desk'] ['cubicle']\n",
      "['desk'] ['living_room']\n",
      "['desk'] ['kitchen']\n",
      "['desk'] ['room']\n",
      "['desk'] ['church']\n",
      "['desk'] ['house']\n",
      "['porch'] ['cubicle']\n",
      "['porch'] ['living_room']\n",
      "['porch'] ['kitchen']\n",
      "['porch'] ['room']\n",
      "['porch'] ['church']\n",
      "['porch'] ['house']\n",
      "['cubicle'] ['living_room']\n",
      "['cubicle'] ['kitchen']\n",
      "['cubicle'] ['room']\n",
      "['cubicle'] ['church']\n",
      "['cubicle'] ['house']\n",
      "['living_room'] ['kitchen']\n",
      "['living_room'] ['room']\n",
      "['living_room'] ['church']\n",
      "['living_room'] ['house']\n",
      "['kitchen'] ['room']\n",
      "['kitchen'] ['church']\n",
      "['kitchen'] ['house']\n",
      "['room'] ['church']\n",
      "['room'] ['house']\n",
      "['church'] ['house']\n"
     ]
    }
   ],
   "source": [
    "from scipy.spatial.distance import pdist\n",
    "\n",
    "X = pdist(Features, metric=conceptnet_dist) # This can take a while..."
   ]
  },
  {
   "cell_type": "markdown",
   "metadata": {},
   "source": [
    "### Clustering\n",
    "\n",
    "This cell shows tha final dendrogram from which new vectors for the feautues would be assigned (this time not orthogonal)"
   ]
  },
  {
   "cell_type": "code",
   "execution_count": 44,
   "metadata": {},
   "outputs": [
    {
     "data": {
      "image/png": "[encoded data removed]",
      "text/plain": [
       "<Figure size 1800x720 with 1 Axes>"
      ]
     },
     "metadata": {
      "needs_background": "light"
     },
     "output_type": "display_data"
    }
   ],
   "source": [
    "from scipy.cluster.hierarchy import linkage, dendrogram\n",
    "\n",
    "distance = linkage(X, 'average')\n",
    "\n",
    "plt.figure(figsize=(25,10))\n",
    "plt.title(\"Hierachical Clustering Dendrogram\")\n",
    "plt.xlabel(\"Index\")\n",
    "plt.ylabel(\"Average distance\")\n",
    "dn = dendrogram(distance)"
   ]
  },
  {
   "cell_type": "code",
   "execution_count": 45,
   "metadata": {},
   "outputs": [
    {
     "name": "stdout",
     "output_type": "stream",
     "text": [
      "Feature 7: church\n",
      "Features (3,0,1): ( cubicle, office, desk )\n",
      "Features (5,4,6): ( kitchen, living_room, room )\n",
      "Features (2,8): ( porch, house )\n"
     ]
    }
   ],
   "source": [
    "print(\"Feature 7:\", Features[7][0])\n",
    "print (\"Features (3,0,1): (\", Features[3][0] + ',', Features[0][0] +',' , Features[1][0], ')')\n",
    "print (\"Features (5,4,6): (\", Features[5][0] + ',', Features[4][0] +',' , Features[6][0], ')')\n",
    "print (\"Features (2,8): (\", Features[2][0] + ',', Features[8][0], ')')\n",
    "\n",
    "# These features will be assigned closer, rather than orthogonal vectors."
   ]
  }
 ],
 "metadata": {
  "kernelspec": {
   "display_name": "Python 3",
   "language": "python",
   "name": "python3"
  },
  "language_info": {
   "codemirror_mode": {
    "name": "ipython",
    "version": 3
   },
   "file_extension": ".py",
   "mimetype": "text/x-python",
   "name": "python",
   "nbconvert_exporter": "python",
   "pygments_lexer": "ipython3",
   "version": "3.8.3"
  }
 },
 "nbformat": 4,
 "nbformat_minor": 2
}
